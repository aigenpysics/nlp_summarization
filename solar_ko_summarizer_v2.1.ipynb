{
 "cells": [
  {
   "cell_type": "markdown",
   "id": "9e02c8d1-e653-41a5-a94f-e44c176dbcc5",
   "metadata": {},
   "source": [
    "# 1. 개발 환경 설정"
   ]
  },
  {
   "cell_type": "markdown",
   "id": "9fa242e1-7689-4397-b410-d550e79246c3",
   "metadata": {},
   "source": [
    "### 1.1 필수 라이브러리 설치하기"
   ]
  },
  {
   "cell_type": "code",
   "execution_count": 1,
   "id": "3d405d7a-f2c9-4416-bf88-880812a2b8b5",
   "metadata": {},
   "outputs": [
    {
     "name": "stdout",
     "output_type": "stream",
     "text": [
      "^C\n",
      "\u001b[31mERROR: Operation cancelled by user\u001b[0m\u001b[31m\n",
      "\u001b[0m\u001b[33mWARNING: Running pip as the 'root' user can result in broken permissions and conflicting behaviour with the system package manager. It is recommended to use a virtual environment instead: https://pip.pypa.io/warnings/venv\u001b[0m\u001b[33m\n",
      "\u001b[0m\u001b[33mWARNING: Running pip as the 'root' user can result in broken permissions and conflicting behaviour with the system package manager. It is recommended to use a virtual environment instead: https://pip.pypa.io/warnings/venv\u001b[0m\u001b[33m\n",
      "\u001b[0m\u001b[33mWARNING: Running pip as the 'root' user can result in broken permissions and conflicting behaviour with the system package manager. It is recommended to use a virtual environment instead: https://pip.pypa.io/warnings/venv\u001b[0m\u001b[33m\n",
      "\u001b[0mRequirement already satisfied: peft in /opt/conda/lib/python3.10/site-packages (0.9.0)\n",
      "Collecting peft\n",
      "  Obtaining dependency information for peft from https://files.pythonhosted.org/packages/19/99/c5e0292a6d2a62e95c3dfe674ce9e8f8a9fe5d4835d3c9bb9b3e016f02ae/peft-0.11.1-py3-none-any.whl.metadata\n",
      "  Using cached peft-0.11.1-py3-none-any.whl.metadata (13 kB)\n",
      "Requirement already satisfied: numpy>=1.17 in /opt/conda/lib/python3.10/site-packages (from peft) (1.23.5)\n",
      "Requirement already satisfied: packaging>=20.0 in /opt/conda/lib/python3.10/site-packages (from peft) (24.0)\n",
      "Requirement already satisfied: psutil in /opt/conda/lib/python3.10/site-packages (from peft) (5.9.0)\n",
      "Requirement already satisfied: pyyaml in /opt/conda/lib/python3.10/site-packages (from peft) (6.0)\n",
      "Requirement already satisfied: torch>=1.13.0 in /opt/conda/lib/python3.10/site-packages (from peft) (2.1.0)\n",
      "Requirement already satisfied: transformers in /opt/conda/lib/python3.10/site-packages (from peft) (4.38.2)\n",
      "Requirement already satisfied: tqdm in /opt/conda/lib/python3.10/site-packages (from peft) (4.66.1)\n",
      "Requirement already satisfied: accelerate>=0.21.0 in /opt/conda/lib/python3.10/site-packages (from peft) (0.27.2)\n",
      "Requirement already satisfied: safetensors in /opt/conda/lib/python3.10/site-packages (from peft) (0.4.1)\n",
      "Requirement already satisfied: huggingface-hub>=0.17.0 in /opt/conda/lib/python3.10/site-packages (from peft) (0.23.1)\n",
      "Requirement already satisfied: filelock in /opt/conda/lib/python3.10/site-packages (from huggingface-hub>=0.17.0->peft) (3.9.0)\n",
      "Requirement already satisfied: fsspec>=2023.5.0 in /opt/conda/lib/python3.10/site-packages (from huggingface-hub>=0.17.0->peft) (2023.9.2)\n",
      "Requirement already satisfied: requests in /opt/conda/lib/python3.10/site-packages (from huggingface-hub>=0.17.0->peft) (2.31.0)\n",
      "Requirement already satisfied: typing-extensions>=3.7.4.3 in /opt/conda/lib/python3.10/site-packages (from huggingface-hub>=0.17.0->peft) (4.12.0)\n",
      "Requirement already satisfied: sympy in /opt/conda/lib/python3.10/site-packages (from torch>=1.13.0->peft) (1.11.1)\n",
      "Requirement already satisfied: networkx in /opt/conda/lib/python3.10/site-packages (from torch>=1.13.0->peft) (3.1)\n",
      "Requirement already satisfied: jinja2 in /opt/conda/lib/python3.10/site-packages (from torch>=1.13.0->peft) (3.1.2)\n",
      "Requirement already satisfied: regex!=2019.12.17 in /opt/conda/lib/python3.10/site-packages (from transformers->peft) (2023.10.3)\n",
      "Requirement already satisfied: tokenizers<0.19,>=0.14 in /opt/conda/lib/python3.10/site-packages (from transformers->peft) (0.15.2)\n",
      "Requirement already satisfied: MarkupSafe>=2.0 in /opt/conda/lib/python3.10/site-packages (from jinja2->torch>=1.13.0->peft) (2.1.1)\n",
      "Requirement already satisfied: charset-normalizer<4,>=2 in /opt/conda/lib/python3.10/site-packages (from requests->huggingface-hub>=0.17.0->peft) (2.0.4)\n",
      "Requirement already satisfied: idna<4,>=2.5 in /opt/conda/lib/python3.10/site-packages (from requests->huggingface-hub>=0.17.0->peft) (3.4)\n",
      "Requirement already satisfied: urllib3<3,>=1.21.1 in /opt/conda/lib/python3.10/site-packages (from requests->huggingface-hub>=0.17.0->peft) (1.26.16)\n",
      "Requirement already satisfied: certifi>=2017.4.17 in /opt/conda/lib/python3.10/site-packages (from requests->huggingface-hub>=0.17.0->peft) (2023.7.22)\n",
      "Requirement already satisfied: mpmath>=0.19 in /opt/conda/lib/python3.10/site-packages (from sympy->torch>=1.13.0->peft) (1.3.0)\n",
      "Using cached peft-0.11.1-py3-none-any.whl (251 kB)\n",
      "Installing collected packages: peft\n",
      "  Attempting uninstall: peft\n",
      "    Found existing installation: peft 0.9.0\n",
      "    Uninstalling peft-0.9.0:\n",
      "      Successfully uninstalled peft-0.9.0\n",
      "Successfully installed peft-0.11.1\n",
      "\u001b[33mWARNING: Running pip as the 'root' user can result in broken permissions and conflicting behaviour with the system package manager. It is recommended to use a virtual environment instead: https://pip.pypa.io/warnings/venv\u001b[0m\u001b[33m\n",
      "\u001b[0m\u001b[33mWARNING: Running pip as the 'root' user can result in broken permissions and conflicting behaviour with the system package manager. It is recommended to use a virtual environment instead: https://pip.pypa.io/warnings/venv\u001b[0m\u001b[33m\n",
      "\u001b[0m\u001b[33mWARNING: Running pip as the 'root' user can result in broken permissions and conflicting behaviour with the system package manager. It is recommended to use a virtual environment instead: https://pip.pypa.io/warnings/venv\u001b[0m\u001b[33m\n",
      "\u001b[0m"
     ]
    }
   ],
   "source": [
    "!pip3 install -q -U transformers==4.38.2\n",
    "!pip3 install -q -U datasets==2.18.0\n",
    "!pip3 install -q -U bitsandbytes==0.42.0\n",
    "!pip3 install -q -U peft==0.9.0\n",
    "!pip3 install --upgrade peft\n",
    "!pip3 install -q -U trl==0.7.11\n",
    "!pip3 install -q -U accelerate==0.27.2"
   ]
  },
  {
   "cell_type": "markdown",
   "id": "13fa79b6-4720-43d1-baae-41d834011c2c",
   "metadata": {},
   "source": [
    "### 1.2 Import modules"
   ]
  },
  {
   "cell_type": "code",
   "execution_count": 2,
   "id": "4db58093",
   "metadata": {},
   "outputs": [],
   "source": [
    "import pandas as pd\n",
    "import os\n",
    "import re\n",
    "import json\n",
    "import yaml\n",
    "from glob import glob\n",
    "from tqdm import tqdm\n",
    "from pprint import pprint\n",
    "import torch\n",
    "import pytorch_lightning as pl\n",
    "from rouge import Rouge # 모델의 성능을 평가하기 위한 라이브러리입니다.\n",
    "\n",
    "from torch.utils.data import Dataset , DataLoader\n",
    "from transformers import AutoTokenizer, AutoModelForCausalLM, BitsAndBytesConfig, pipeline, TrainingArguments\n",
    "from transformers import Trainer, TrainingArguments\n",
    "from transformers import EarlyStoppingCallback\n",
    "\n",
    "from peft import LoraConfig, PeftModel\n",
    "from trl import SFTTrainer\n",
    "\n",
    "import wandb # 모델 학습 과정을 손쉽게 Tracking하고, 시각화할 수 있는 라이브러리입니다.\n",
    "\n",
    "os.environ[\"TOKENIZERS_PARALLELISM\"] = \"true\"\n"
   ]
  },
  {
   "cell_type": "markdown",
   "id": "5b7f30d7-bfdf-49c5-8c2c-701ad6f15a80",
   "metadata": {},
   "source": [
    "### 1.3 Huggingface 로그인"
   ]
  },
  {
   "cell_type": "code",
   "execution_count": 4,
   "id": "6aa22976-7bdf-479d-8c5c-8ab890be537f",
   "metadata": {},
   "outputs": [
    {
     "data": {
      "application/vnd.jupyter.widget-view+json": {
       "model_id": "bd45d1cd6f4a4b238c5eea60a43a6325",
       "version_major": 2,
       "version_minor": 0
      },
      "text/plain": [
       "VBox(children=(HTML(value='<center> <img\\nsrc=https://huggingface.co/front/assets/huggingface_logo-noborder.sv…"
      ]
     },
     "metadata": {},
     "output_type": "display_data"
    }
   ],
   "source": [
    "from huggingface_hub import notebook_login\n",
    "notebook_login()"
   ]
  },
  {
   "cell_type": "markdown",
   "id": "98848a84-680e-4527-bdaf-f5cd7d635348",
   "metadata": {},
   "source": [
    "# 2. Dataset 생성 및 준비"
   ]
  },
  {
   "cell_type": "markdown",
   "id": "ceaa6125-b440-4458-b3dc-142aa7668110",
   "metadata": {},
   "source": [
    "### 2.1 데이터셋 로드"
   ]
  },
  {
   "cell_type": "code",
   "execution_count": 2,
   "id": "c0098c83",
   "metadata": {},
   "outputs": [],
   "source": [
    "# config에 저장된 데이터 경로를 통해 train과 validation data를 불러옵니다.\n",
    "data_path = '/data/ephemeral/home/data'\n",
    "\n",
    "# train data의 구조와 내용을 확인합니다.\n",
    "train_df = pd.read_csv(os.path.join(data_path,'shuffled_merged_file.csv'))\n",
    "\n",
    "# validation data의 구조와 내용을 확인합니다.\n",
    "val_df = pd.read_csv(os.path.join(data_path,'dev.csv'))"
   ]
  },
  {
   "cell_type": "markdown",
   "id": "187a1bfb-b47c-448e-8957-86c00cc1df02",
   "metadata": {},
   "source": [
    "# 3. Solar 파인튜닝"
   ]
  },
  {
   "cell_type": "markdown",
   "id": "0a886413-a19c-4966-9e07-ca8cdb23aa16",
   "metadata": {},
   "source": [
    "### 3.1 학습용 프롬프트 조정"
   ]
  },
  {
   "cell_type": "code",
   "execution_count": 3,
   "id": "d26bd59d",
   "metadata": {},
   "outputs": [],
   "source": [
    "def generate_prompt(row):\n",
    "    topic = row['topic'] if 'topic' in row else ''\n",
    "    \n",
    "    prompt = f\"<s> <|im_start|>system\\n주제를 참고해 다음 대화를 요약해주세요:\\n\\ntopic: {topic}\\n\\ndialogue: {row['dialogue']}\\n<|im_end|>\\n<|im_start|>assistant\\n요약: {row['summary']}\\n<|im_end|> </s>\"\n",
    "    \n",
    "    return prompt"
   ]
  },
  {
   "cell_type": "code",
   "execution_count": 3,
   "id": "6cb6588e",
   "metadata": {},
   "outputs": [],
   "source": [
    "def generate_prompt(row):#토픽 추출용\n",
    "    topic = row['topic'] if 'topic' in row else ''\n",
    "    \n",
    "    prompt = f\"<s> <|im_start|>system\\n다음 대화의 토픽을 찾으세요:\\n\\ndialogue: {row['dialogue']}\\n<|im_end|>\\n<|im_start|>assistant\\ntopic: {topic}\\n<|im_end|> </s>\"\n",
    "    \n",
    "    return prompt"
   ]
  },
  {
   "cell_type": "code",
   "execution_count": 4,
   "id": "e5dab8a7",
   "metadata": {},
   "outputs": [],
   "source": [
    "train_df['prompt'] = train_df.apply(generate_prompt, axis=1)\n",
    "val_df['prompt'] = val_df.apply(generate_prompt, axis=1)\n",
    "\n",
    "train_data = train_df['prompt']\n",
    "val_data = val_df['prompt']"
   ]
  },
  {
   "cell_type": "markdown",
   "id": "1849b4c0-16f3-44f3-bb67-7022f226ec05",
   "metadata": {},
   "source": [
    "### 3.2 QLoRA 설정"
   ]
  },
  {
   "cell_type": "code",
   "execution_count": 5,
   "id": "6c3b30e6",
   "metadata": {},
   "outputs": [
    {
     "name": "stderr",
     "output_type": "stream",
     "text": [
      "/opt/conda/lib/python3.10/site-packages/huggingface_hub/file_download.py:1132: FutureWarning: `resume_download` is deprecated and will be removed in version 1.0.0. Downloads always resume when possible. If you want to force a new download, use `force_download=True`.\n",
      "  warnings.warn(\n"
     ]
    },
    {
     "data": {
      "application/vnd.jupyter.widget-view+json": {
       "model_id": "0c5232dfa2224ac5af31c9d285b215c5",
       "version_major": 2,
       "version_minor": 0
      },
      "text/plain": [
       "Loading checkpoint shards:   0%|          | 0/8 [00:00<?, ?it/s]"
      ]
     },
     "metadata": {},
     "output_type": "display_data"
    }
   ],
   "source": [
    "from transformers import AutoModelForCausalLM, AutoTokenizer\n",
    "from transformers import BitsAndBytesConfig\n",
    "from peft import LoraConfig, PeftModel, get_peft_model, prepare_model_for_kbit_training\n",
    "import torch\n",
    "\n",
    "BASE_MODEL = \"beomi/Solar-Ko-Recovery-11B\"\n",
    "\n",
    "# LoRA 설정\n",
    "lora_config = LoraConfig(\n",
    "    r=6,\n",
    "    target_modules=[\"q_proj\", \"o_proj\", \"k_proj\", \"v_proj\", \"gate_proj\", \"up_proj\", \"down_proj\"],\n",
    "    task_type=\"CAUSAL_LM\",\n",
    ")\n",
    "\n",
    "# 양자화 설정\n",
    "bnb_config = BitsAndBytesConfig(\n",
    "    load_in_4bit=True,\n",
    "    bnb_4bit_quant_type=\"nf4\",\n",
    "    bnb_4bit_compute_dtype=torch.float16\n",
    ")\n",
    "\n",
    "# 모델 로드\n",
    "model = AutoModelForCausalLM.from_pretrained(\n",
    "    BASE_MODEL,\n",
    "    device_map={\"\": \"cuda\"},\n",
    "    quantization_config=bnb_config,\n",
    "    torch_dtype=torch.float16,\n",
    ")\n",
    "\n",
    "\n",
    "model = prepare_model_for_kbit_training(model)\n",
    "\n",
    "# QLora 적용\n",
    "model = get_peft_model(model, lora_config)\n",
    "\n",
    "# 토크나이저 설정\n",
    "tokenizer = AutoTokenizer.from_pretrained(BASE_MODEL, add_special_tokens=True)\n",
    "#model.resize_token_embeddings(len(tokenizer))"
   ]
  },
  {
   "cell_type": "code",
   "execution_count": 6,
   "id": "ebe9ac2c",
   "metadata": {},
   "outputs": [
    {
     "name": "stdout",
     "output_type": "stream",
     "text": [
      "평균 시퀀스 길이: 283.83803863298664\n",
      "중앙값 시퀀스 길이: 263.0\n",
      "최대 시퀀스 길이: 1395\n",
      "최소 시퀀스 길이: 59\n"
     ]
    },
    {
     "data": {
      "image/png": "[encoded data removed]",
      "text/plain": [
       "<Figure size 640x480 with 1 Axes>"
      ]
     },
     "metadata": {},
     "output_type": "display_data"
    }
   ],
   "source": [
    "from transformers import AutoTokenizer\n",
    "import numpy as np\n",
    "import matplotlib.pyplot as plt\n",
    "\n",
    "# 데이터 토큰화\n",
    "tokenized_data = tokenizer(train_df['prompt'].tolist())\n",
    "\n",
    "# 시퀀스 길이 계산\n",
    "seq_lengths = [len(seq) for seq in tokenized_data['input_ids']]\n",
    "\n",
    "# 시퀀스 길이 통계량 출력\n",
    "print(f\"평균 시퀀스 길이: {np.mean(seq_lengths)}\")\n",
    "print(f\"중앙값 시퀀스 길이: {np.median(seq_lengths)}\")\n",
    "print(f\"최대 시퀀스 길이: {np.max(seq_lengths)}\")\n",
    "print(f\"최소 시퀀스 길이: {np.min(seq_lengths)}\")\n",
    "\n",
    "# 시퀀스 길이 히스토그램 그리기\n",
    "plt.hist(seq_lengths, bins=50)\n",
    "plt.xlabel('Sequence Length')\n",
    "plt.ylabel('Frequency')\n",
    "plt.title('Sequence Length Distribution')\n",
    "plt.show()"
   ]
  },
  {
   "cell_type": "markdown",
   "id": "90db62d4-05ef-41ad-ad7b-a9c734c1b67d",
   "metadata": {},
   "source": [
    "### 3.3 Trainer 실행"
   ]
  },
  {
   "cell_type": "code",
   "execution_count": 6,
   "id": "b1ef6fa4",
   "metadata": {},
   "outputs": [
    {
     "name": "stderr",
     "output_type": "stream",
     "text": [
      "Failed to detect the name of this notebook, you can set it manually with the WANDB_NOTEBOOK_NAME environment variable to enable code saving.\n",
      "\u001b[34m\u001b[1mwandb\u001b[0m: \u001b[33mWARNING\u001b[0m If you're specifying your api key in code, ensure this code is not shared publicly.\n",
      "\u001b[34m\u001b[1mwandb\u001b[0m: \u001b[33mWARNING\u001b[0m Consider setting the WANDB_API_KEY environment variable, or running `wandb login` from the command line.\n",
      "\u001b[34m\u001b[1mwandb\u001b[0m: Appending key for api.wandb.ai to your netrc file: /data/ephemeral/home/.netrc\n"
     ]
    }
   ],
   "source": [
    "wandb_key = ''\n",
    "wandb.login(key=wandb_key, relogin=True)\n",
    "\n",
    "# set the wandb project where this run will be logged\n",
    "os.environ[\"WANDB_ENTITY\"] = 'upstage-ai-comp'\n",
    "\n",
    "# set the wandb project where this run will be logged\n",
    "os.environ[\"WANDB_PROJECT\"] = ''\n",
    "\n",
    "# save your trained model checkpoint to wandb\n",
    "os.environ[\"WANDB_LOG_MODEL\"] = \"true\"\n",
    "\n",
    "# turn off watch to log faster\n",
    "os.environ[\"WANDB_WATCH\"] = \"all\""
   ]
  },
  {
   "cell_type": "code",
   "execution_count": 7,
   "id": "2565307f",
   "metadata": {},
   "outputs": [
    {
     "data": {
      "application/vnd.jupyter.widget-view+json": {
       "model_id": "7d3f670a7670422aa1237207fa10a788",
       "version_major": 2,
       "version_minor": 0
      },
      "text/plain": [
       "Map:   0%|          | 0/18171 [00:00<?, ? examples/s]"
      ]
     },
     "metadata": {},
     "output_type": "display_data"
    },
    {
     "data": {
      "application/vnd.jupyter.widget-view+json": {
       "model_id": "03807bea05fd422cb4d5a276bb5d8b6a",
       "version_major": 2,
       "version_minor": 0
      },
      "text/plain": [
       "Map:   0%|          | 0/499 [00:00<?, ? examples/s]"
      ]
     },
     "metadata": {},
     "output_type": "display_data"
    },
    {
     "name": "stderr",
     "output_type": "stream",
     "text": [
      "/opt/conda/lib/python3.10/site-packages/trl/trainer/sft_trainer.py:294: UserWarning: You passed a tokenizer with `padding_side` not equal to `right` to the SFTTrainer. This might lead to some unexpected behaviour due to overflow issues when training a model in half-precision. You might consider adding `tokenizer.padding_side = 'right'` to your code.\n",
      "  warnings.warn(\n",
      "Detected kernel version 5.4.0, which is below the recommended minimum of 5.5.0; this can cause the process to hang. It is recommended to upgrade the kernel to the minimum version or higher.\n"
     ]
    }
   ],
   "source": [
    "from datasets import Dataset, load_metric\n",
    "from transformers import TrainingArguments, Trainer, EarlyStoppingCallback\n",
    "\n",
    "# 훈련 데이터 로드\n",
    "train_data = Dataset.from_dict({\"prompt\": train_df['prompt']})\n",
    "\n",
    "# 검증 데이터 로드\n",
    "val_data = Dataset.from_dict({\"prompt\": val_df['prompt']})\n",
    "\n",
    "def formattingfunc(example):\n",
    "    return example['prompt']\n",
    "\n",
    "trainer = SFTTrainer(\n",
    "    model=model,\n",
    "    train_dataset=train_data,\n",
    "    eval_dataset=val_data,\n",
    "    max_seq_length=512,\n",
    "    args=TrainingArguments(\n",
    "        output_dir=\"outputs\",\n",
    "        num_train_epochs=3,\n",
    "        per_device_train_batch_size=1,\n",
    "        per_device_eval_batch_size=1,\n",
    "        gradient_accumulation_steps=4,\n",
    "        eval_accumulation_steps=4,\n",
    "        dataloader_num_workers=0,\n",
    "        optim=\"adamw_torch_fused\",\n",
    "        warmup_steps=0.05,\n",
    "        learning_rate=2e-4,\n",
    "        fp16=True,\n",
    "        logging_steps=100,\n",
    "        push_to_hub=False,\n",
    "        evaluation_strategy=\"steps\",\n",
    "        load_best_model_at_end=True,\n",
    "        metric_for_best_model='eval_loss',\n",
    "        max_grad_norm=0.3,\n",
    "        weight_decay=0.001,\n",
    "        report_to=\"none\",#속도가 느려져서 완드비 껐습니다 필요에 따라 켜주세요\n",
    "    ),\n",
    "    peft_config=lora_config,\n",
    "    formatting_func=formattingfunc,\n",
    "    callbacks=[EarlyStoppingCallback(early_stopping_patience=5)],\n",
    ")\n",
    "\n",
    "model.gradient_checkpointing_disable()"
   ]
  },
  {
   "cell_type": "code",
   "execution_count": null,
   "id": "b78b3310",
   "metadata": {},
   "outputs": [],
   "source": [
    "\n",
    "trainer = SFTTrainer(\n",
    "    max_seq_length=512,\n",
    "    args=TrainingArguments(\n",
    "        num_train_epochs=3,\n",
    "        per_device_train_batch_size=1,\n",
    "        per_device_eval_batch_size=1,\n",
    "        gradient_accumulation_steps=4,\n",
    "        eval_accumulation_steps=4,\n",
    "        optim=\"adamw_torch_fused\",\n",
    "        warmup_steps=0.05,\n",
    "        learning_rate=2e-4,\n",
    "        fp16=True,\n",
    "        max_grad_norm=0.3,\n",
    "        weight_decay=0.001,\n",
    "    ),\n",
    "    peft_config=lora_config,\n",
    "    formatting_func=formattingfunc,\n",
    "    callbacks=[EarlyStoppingCallback(early_stopping_patience=5)],"
   ]
  },
  {
   "cell_type": "code",
   "execution_count": 8,
   "id": "82fd7e65-334d-4052-9ab5-3c8e71bf09a5",
   "metadata": {
    "scrolled": true
   },
   "outputs": [
    {
     "data": {
      "text/html": [
       "\n",
       "    <div>\n",
       "      \n",
       "      <progress value='5000' max='13626' style='width:300px; height:20px; vertical-align: middle;'></progress>\n",
       "      [ 5000/13626 6:23:32 < 11:01:56, 0.22 it/s, Epoch 1/3]\n",
       "    </div>\n",
       "    <table border=\"1\" class=\"dataframe\">\n",
       "  <thead>\n",
       " <tr style=\"text-align: left;\">\n",
       "      <th>Step</th>\n",
       "      <th>Training Loss</th>\n",
       "      <th>Validation Loss</th>\n",
       "    </tr>\n",
       "  </thead>\n",
       "  <tbody>\n",
       "    <tr>\n",
       "      <td>100</td>\n",
       "      <td>1.601700</td>\n",
       "      <td>1.452284</td>\n",
       "    </tr>\n",
       "    <tr>\n",
       "      <td>200</td>\n",
       "      <td>1.461700</td>\n",
       "      <td>1.428586</td>\n",
       "    </tr>\n",
       "    <tr>\n",
       "      <td>300</td>\n",
       "      <td>1.460700</td>\n",
       "      <td>1.420713</td>\n",
       "    </tr>\n",
       "    <tr>\n",
       "      <td>400</td>\n",
       "      <td>1.480800</td>\n",
       "      <td>1.406855</td>\n",
       "    </tr>\n",
       "    <tr>\n",
       "      <td>500</td>\n",
       "      <td>1.467900</td>\n",
       "      <td>1.409438</td>\n",
       "    </tr>\n",
       "    <tr>\n",
       "      <td>600</td>\n",
       "      <td>1.442500</td>\n",
       "      <td>1.392212</td>\n",
       "    </tr>\n",
       "    <tr>\n",
       "      <td>700</td>\n",
       "      <td>1.426600</td>\n",
       "      <td>1.399883</td>\n",
       "    </tr>\n",
       "    <tr>\n",
       "      <td>800</td>\n",
       "      <td>1.411100</td>\n",
       "      <td>1.396948</td>\n",
       "    </tr>\n",
       "    <tr>\n",
       "      <td>900</td>\n",
       "      <td>1.447000</td>\n",
       "      <td>1.386747</td>\n",
       "    </tr>\n",
       "    <tr>\n",
       "      <td>1000</td>\n",
       "      <td>1.406600</td>\n",
       "      <td>1.384652</td>\n",
       "    </tr>\n",
       "    <tr>\n",
       "      <td>1100</td>\n",
       "      <td>1.422000</td>\n",
       "      <td>1.385471</td>\n",
       "    </tr>\n",
       "    <tr>\n",
       "      <td>1200</td>\n",
       "      <td>1.384300</td>\n",
       "      <td>1.383862</td>\n",
       "    </tr>\n",
       "    <tr>\n",
       "      <td>1300</td>\n",
       "      <td>1.388700</td>\n",
       "      <td>1.378729</td>\n",
       "    </tr>\n",
       "    <tr>\n",
       "      <td>1400</td>\n",
       "      <td>1.418100</td>\n",
       "      <td>1.369852</td>\n",
       "    </tr>\n",
       "    <tr>\n",
       "      <td>1500</td>\n",
       "      <td>1.377200</td>\n",
       "      <td>1.366943</td>\n",
       "    </tr>\n",
       "    <tr>\n",
       "      <td>1600</td>\n",
       "      <td>1.369900</td>\n",
       "      <td>1.370911</td>\n",
       "    </tr>\n",
       "    <tr>\n",
       "      <td>1700</td>\n",
       "      <td>1.341900</td>\n",
       "      <td>1.367008</td>\n",
       "    </tr>\n",
       "    <tr>\n",
       "      <td>1800</td>\n",
       "      <td>1.361800</td>\n",
       "      <td>1.362852</td>\n",
       "    </tr>\n",
       "    <tr>\n",
       "      <td>1900</td>\n",
       "      <td>1.344300</td>\n",
       "      <td>1.360908</td>\n",
       "    </tr>\n",
       "    <tr>\n",
       "      <td>2000</td>\n",
       "      <td>1.345900</td>\n",
       "      <td>1.359409</td>\n",
       "    </tr>\n",
       "    <tr>\n",
       "      <td>2100</td>\n",
       "      <td>1.373100</td>\n",
       "      <td>1.356591</td>\n",
       "    </tr>\n",
       "    <tr>\n",
       "      <td>2200</td>\n",
       "      <td>1.360700</td>\n",
       "      <td>1.359180</td>\n",
       "    </tr>\n",
       "    <tr>\n",
       "      <td>2300</td>\n",
       "      <td>1.323600</td>\n",
       "      <td>1.356313</td>\n",
       "    </tr>\n",
       "    <tr>\n",
       "      <td>2400</td>\n",
       "      <td>1.306700</td>\n",
       "      <td>1.354733</td>\n",
       "    </tr>\n",
       "    <tr>\n",
       "      <td>2500</td>\n",
       "      <td>1.317200</td>\n",
       "      <td>1.351134</td>\n",
       "    </tr>\n",
       "    <tr>\n",
       "      <td>2600</td>\n",
       "      <td>1.309900</td>\n",
       "      <td>1.356291</td>\n",
       "    </tr>\n",
       "    <tr>\n",
       "      <td>2700</td>\n",
       "      <td>1.329100</td>\n",
       "      <td>1.347848</td>\n",
       "    </tr>\n",
       "    <tr>\n",
       "      <td>2800</td>\n",
       "      <td>1.320500</td>\n",
       "      <td>1.350324</td>\n",
       "    </tr>\n",
       "    <tr>\n",
       "      <td>2900</td>\n",
       "      <td>1.340500</td>\n",
       "      <td>1.350408</td>\n",
       "    </tr>\n",
       "    <tr>\n",
       "      <td>3000</td>\n",
       "      <td>1.279500</td>\n",
       "      <td>1.349401</td>\n",
       "    </tr>\n",
       "    <tr>\n",
       "      <td>3100</td>\n",
       "      <td>1.274000</td>\n",
       "      <td>1.347274</td>\n",
       "    </tr>\n",
       "    <tr>\n",
       "      <td>3200</td>\n",
       "      <td>1.285400</td>\n",
       "      <td>1.346634</td>\n",
       "    </tr>\n",
       "    <tr>\n",
       "      <td>3300</td>\n",
       "      <td>1.317200</td>\n",
       "      <td>1.343403</td>\n",
       "    </tr>\n",
       "    <tr>\n",
       "      <td>3400</td>\n",
       "      <td>1.287700</td>\n",
       "      <td>1.337055</td>\n",
       "    </tr>\n",
       "    <tr>\n",
       "      <td>3500</td>\n",
       "      <td>1.262300</td>\n",
       "      <td>1.336523</td>\n",
       "    </tr>\n",
       "    <tr>\n",
       "      <td>3600</td>\n",
       "      <td>1.274700</td>\n",
       "      <td>1.336840</td>\n",
       "    </tr>\n",
       "    <tr>\n",
       "      <td>3700</td>\n",
       "      <td>1.292800</td>\n",
       "      <td>1.335515</td>\n",
       "    </tr>\n",
       "    <tr>\n",
       "      <td>3800</td>\n",
       "      <td>1.264500</td>\n",
       "      <td>1.339826</td>\n",
       "    </tr>\n",
       "    <tr>\n",
       "      <td>3900</td>\n",
       "      <td>1.285400</td>\n",
       "      <td>1.339056</td>\n",
       "    </tr>\n",
       "    <tr>\n",
       "      <td>4000</td>\n",
       "      <td>1.275900</td>\n",
       "      <td>1.335317</td>\n",
       "    </tr>\n",
       "    <tr>\n",
       "      <td>4100</td>\n",
       "      <td>1.249400</td>\n",
       "      <td>1.337123</td>\n",
       "    </tr>\n",
       "    <tr>\n",
       "      <td>4200</td>\n",
       "      <td>1.243400</td>\n",
       "      <td>1.333345</td>\n",
       "    </tr>\n",
       "    <tr>\n",
       "      <td>4300</td>\n",
       "      <td>1.223000</td>\n",
       "      <td>1.334767</td>\n",
       "    </tr>\n",
       "    <tr>\n",
       "      <td>4400</td>\n",
       "      <td>1.226800</td>\n",
       "      <td>1.333818</td>\n",
       "    </tr>\n",
       "    <tr>\n",
       "      <td>4500</td>\n",
       "      <td>1.238900</td>\n",
       "      <td>1.331428</td>\n",
       "    </tr>\n",
       "    <tr>\n",
       "      <td>4600</td>\n",
       "      <td>1.102800</td>\n",
       "      <td>1.348934</td>\n",
       "    </tr>\n",
       "    <tr>\n",
       "      <td>4700</td>\n",
       "      <td>0.976800</td>\n",
       "      <td>1.348101</td>\n",
       "    </tr>\n",
       "    <tr>\n",
       "      <td>4800</td>\n",
       "      <td>1.020300</td>\n",
       "      <td>1.349560</td>\n",
       "    </tr>\n",
       "    <tr>\n",
       "      <td>4900</td>\n",
       "      <td>1.004800</td>\n",
       "      <td>1.349434</td>\n",
       "    </tr>\n",
       "    <tr>\n",
       "      <td>5000</td>\n",
       "      <td>1.018400</td>\n",
       "      <td>1.352027</td>\n",
       "    </tr>\n",
       "  </tbody>\n",
       "</table><p>"
      ],
      "text/plain": [
       "<IPython.core.display.HTML object>"
      ]
     },
     "metadata": {},
     "output_type": "display_data"
    },
    {
     "name": "stderr",
     "output_type": "stream",
     "text": [
      "Checkpoint destination directory outputs/checkpoint-500 already exists and is non-empty. Saving will proceed but saved results may be invalid.\n",
      "Checkpoint destination directory outputs/checkpoint-1000 already exists and is non-empty. Saving will proceed but saved results may be invalid.\n",
      "/opt/conda/lib/python3.10/site-packages/huggingface_hub/file_download.py:1132: FutureWarning: `resume_download` is deprecated and will be removed in version 1.0.0. Downloads always resume when possible. If you want to force a new download, use `force_download=True`.\n",
      "  warnings.warn(\n",
      "/opt/conda/lib/python3.10/site-packages/huggingface_hub/file_download.py:1132: FutureWarning: `resume_download` is deprecated and will be removed in version 1.0.0. Downloads always resume when possible. If you want to force a new download, use `force_download=True`.\n",
      "  warnings.warn(\n",
      "/opt/conda/lib/python3.10/site-packages/huggingface_hub/file_download.py:1132: FutureWarning: `resume_download` is deprecated and will be removed in version 1.0.0. Downloads always resume when possible. If you want to force a new download, use `force_download=True`.\n",
      "  warnings.warn(\n",
      "/opt/conda/lib/python3.10/site-packages/huggingface_hub/file_download.py:1132: FutureWarning: `resume_download` is deprecated and will be removed in version 1.0.0. Downloads always resume when possible. If you want to force a new download, use `force_download=True`.\n",
      "  warnings.warn(\n",
      "/opt/conda/lib/python3.10/site-packages/huggingface_hub/file_download.py:1132: FutureWarning: `resume_download` is deprecated and will be removed in version 1.0.0. Downloads always resume when possible. If you want to force a new download, use `force_download=True`.\n",
      "  warnings.warn(\n",
      "/opt/conda/lib/python3.10/site-packages/huggingface_hub/file_download.py:1132: FutureWarning: `resume_download` is deprecated and will be removed in version 1.0.0. Downloads always resume when possible. If you want to force a new download, use `force_download=True`.\n",
      "  warnings.warn(\n",
      "/opt/conda/lib/python3.10/site-packages/huggingface_hub/file_download.py:1132: FutureWarning: `resume_download` is deprecated and will be removed in version 1.0.0. Downloads always resume when possible. If you want to force a new download, use `force_download=True`.\n",
      "  warnings.warn(\n",
      "/opt/conda/lib/python3.10/site-packages/huggingface_hub/file_download.py:1132: FutureWarning: `resume_download` is deprecated and will be removed in version 1.0.0. Downloads always resume when possible. If you want to force a new download, use `force_download=True`.\n",
      "  warnings.warn(\n",
      "/opt/conda/lib/python3.10/site-packages/huggingface_hub/file_download.py:1132: FutureWarning: `resume_download` is deprecated and will be removed in version 1.0.0. Downloads always resume when possible. If you want to force a new download, use `force_download=True`.\n",
      "  warnings.warn(\n",
      "/opt/conda/lib/python3.10/site-packages/huggingface_hub/file_download.py:1132: FutureWarning: `resume_download` is deprecated and will be removed in version 1.0.0. Downloads always resume when possible. If you want to force a new download, use `force_download=True`.\n",
      "  warnings.warn(\n"
     ]
    }
   ],
   "source": [
    "trainer.train()\n",
    "\n",
    "ADAPTER_MODEL = \"lora_adapter_last\"\n",
    "\n",
    "#wandb.finish()\n",
    "\n",
    "trainer.model.save_pretrained(ADAPTER_MODEL)"
   ]
  },
  {
   "cell_type": "markdown",
   "id": "84f2c237-71f4-47c2-bad4-181dadb6cc98",
   "metadata": {},
   "source": [
    "# 4. Solar 한국어 요약 모델 추론"
   ]
  },
  {
   "cell_type": "markdown",
   "id": "8587dfc7-cf7c-4072-a8f7-6ceb1e90a532",
   "metadata": {},
   "source": [
    "#### 주의: 마찬가지로 Colab GPU 메모리 한계로 학습 시 사용했던 메모리를 비워 줘야 파인튜닝을 진행 할 수 있습니다. <br> notebook 런타임 세션을 재시작 한 후 1번과 2번의 2.1 항목까지 다시 실행하여 로드 한 후 아래 과정을 진행합니다"
   ]
  },
  {
   "cell_type": "markdown",
   "id": "78399236-63b5-41af-9cee-a7233e23a9db",
   "metadata": {},
   "source": [
    "### 4.1 Fine-tuned 모델 로드"
   ]
  },
  {
   "cell_type": "code",
   "execution_count": 3,
   "id": "48615825",
   "metadata": {},
   "outputs": [
    {
     "name": "stderr",
     "output_type": "stream",
     "text": [
      "/opt/conda/lib/python3.10/site-packages/huggingface_hub/file_download.py:1132: FutureWarning: `resume_download` is deprecated and will be removed in version 1.0.0. Downloads always resume when possible. If you want to force a new download, use `force_download=True`.\n",
      "  warnings.warn(\n"
     ]
    },
    {
     "data": {
      "application/vnd.jupyter.widget-view+json": {
       "model_id": "da4307cf798b48308857e11484e6f76e",
       "version_major": 2,
       "version_minor": 0
      },
      "text/plain": [
       "Loading checkpoint shards:   0%|          | 0/8 [00:00<?, ?it/s]"
      ]
     },
     "metadata": {},
     "output_type": "display_data"
    }
   ],
   "source": [
    "BASE_MODEL = \"beomi/Solar-Ko-Recovery-11B\"\n",
    "ADAPTER_MODEL = \"lora_adapter_last\"\n",
    "\n",
    "# 양자화 설정\n",
    "bnb_config = BitsAndBytesConfig(\n",
    "    load_in_4bit=True,\n",
    "    bnb_4bit_quant_type=\"nf4\",\n",
    "    bnb_4bit_compute_dtype=torch.float16\n",
    ")\n",
    "\n",
    "model = AutoModelForCausalLM.from_pretrained(\n",
    "    BASE_MODEL,\n",
    "    device_map={\"\": \"cuda\"},\n",
    "    quantization_config=bnb_config,\n",
    "    torch_dtype=torch.float16,\n",
    ")\n",
    "\n",
    "model = PeftModel.from_pretrained(model, ADAPTER_MODEL, device_map={\"\": \"cuda\"}, torch_dtype=torch.float16)\n",
    "\n",
    "tokenizer = AutoTokenizer.from_pretrained(BASE_MODEL, add_special_tokens=True)"
   ]
  },
  {
   "cell_type": "markdown",
   "id": "5c34718c-ce52-4d68-ac8c-c18b6483b15b",
   "metadata": {},
   "source": [
    "### 4.2 Fine-tuned 모델 추론"
   ]
  },
  {
   "cell_type": "code",
   "execution_count": 4,
   "id": "0061c8db",
   "metadata": {},
   "outputs": [
    {
     "data": {
      "text/html": [
       "<div>\n",
       "<style scoped>\n",
       "    .dataframe tbody tr th:only-of-type {\n",
       "        vertical-align: middle;\n",
       "    }\n",
       "\n",
       "    .dataframe tbody tr th {\n",
       "        vertical-align: top;\n",
       "    }\n",
       "\n",
       "    .dataframe thead th {\n",
       "        text-align: right;\n",
       "    }\n",
       "</style>\n",
       "<table border=\"1\" class=\"dataframe\">\n",
       "  <thead>\n",
       "    <tr style=\"text-align: right;\">\n",
       "      <th></th>\n",
       "      <th>fname</th>\n",
       "      <th>dialogue</th>\n",
       "      <th>topic</th>\n",
       "    </tr>\n",
       "  </thead>\n",
       "  <tbody>\n",
       "    <tr>\n",
       "      <th>494</th>\n",
       "      <td>test_495</td>\n",
       "      <td>#Person1#: 헤이, 찰리, 학교 끝나고 우리 집에 와서 나랑 비디오 게임 할...</td>\n",
       "      <td>비디오 게임</td>\n",
       "    </tr>\n",
       "    <tr>\n",
       "      <th>495</th>\n",
       "      <td>test_496</td>\n",
       "      <td>#Person1#: 어떻게 컨트리 음악에 관심을 가지게 되었나요?\\n#Person2...</td>\n",
       "      <td>컨트리 음악</td>\n",
       "    </tr>\n",
       "    <tr>\n",
       "      <th>496</th>\n",
       "      <td>test_497</td>\n",
       "      <td>#Person1#: 실례합니다, 앨리스. 이곳을 사용해본 적이 없는데, 기계를 어떻...</td>\n",
       "      <td>세탁기</td>\n",
       "    </tr>\n",
       "    <tr>\n",
       "      <th>497</th>\n",
       "      <td>test_498</td>\n",
       "      <td>#Person1#: 매튜? 안녕!\\n#Person2#: 스티브! 오랜만이네! 얼마나...</td>\n",
       "      <td>집 찾기</td>\n",
       "    </tr>\n",
       "    <tr>\n",
       "      <th>498</th>\n",
       "      <td>test_499</td>\n",
       "      <td>#Person1#: 헤이, 벳시, 좋은 소식 들었어?\\n#Person2#: 아니, ...</td>\n",
       "      <td>승진</td>\n",
       "    </tr>\n",
       "  </tbody>\n",
       "</table>\n",
       "</div>"
      ],
      "text/plain": [
       "        fname                                           dialogue   topic\n",
       "494  test_495  #Person1#: 헤이, 찰리, 학교 끝나고 우리 집에 와서 나랑 비디오 게임 할...  비디오 게임\n",
       "495  test_496  #Person1#: 어떻게 컨트리 음악에 관심을 가지게 되었나요?\\n#Person2...  컨트리 음악\n",
       "496  test_497  #Person1#: 실례합니다, 앨리스. 이곳을 사용해본 적이 없는데, 기계를 어떻...     세탁기\n",
       "497  test_498  #Person1#: 매튜? 안녕!\\n#Person2#: 스티브! 오랜만이네! 얼마나...    집 찾기\n",
       "498  test_499  #Person1#: 헤이, 벳시, 좋은 소식 들었어?\\n#Person2#: 아니, ...      승진"
      ]
     },
     "execution_count": 4,
     "metadata": {},
     "output_type": "execute_result"
    }
   ],
   "source": [
    "# config에 저장된 데이터 경로를 통해 test data를 불러옵니다.\n",
    "data_path = '/data/ephemeral/home/data'\n",
    "\n",
    "# test data의 구조와 내용을 확인합니다.\n",
    "test_df = pd.read_csv(os.path.join(data_path,'test_with_topic.csv'))\n",
    "test_df.tail()"
   ]
  },
  {
   "cell_type": "code",
   "execution_count": 6,
   "id": "f0805c16",
   "metadata": {},
   "outputs": [],
   "source": [
    "def generate_test_prompt(row):\n",
    "    prompt = f\"<s><|im_start|>system\\n다음 대화를 요약해주세요:\\n\\ndialogue: {row['dialogue']}\\n<|im_end|>\\n<|im_start|>assistant\\n요약:\" #<|im_end|></s>\"\n",
    "    return prompt"
   ]
  },
  {
   "cell_type": "code",
   "execution_count": 5,
   "id": "1d9794f3",
   "metadata": {},
   "outputs": [],
   "source": [
    "def generate_test_prompt(row):#토픽 있을때\n",
    "    topic = row['topic'] if 'topic' in row else ''\n",
    "    prompt = f\"<s> <|im_start|>system\\n주제를 참고해 다음 대화를 요약해주세요:\\n\\ntopic: {topic}\\n\\ndialogue: {row['dialogue']}\\n<|im_end|>\\n<|im_start|>assistant\\n요약:\"\n",
    "    return prompt\n"
   ]
  },
  {
   "cell_type": "code",
   "execution_count": 14,
   "id": "b11bc4c4",
   "metadata": {},
   "outputs": [],
   "source": [
    "def generate_test_prompt(row):#토픽 추출용\n",
    "    prompt = f\"<s><|im_start|>system\\n다음 대화의 토픽을 찾으세요:\\n\\ndialogue: {row['dialogue']}\\n<|im_end|>\\n<|im_start|>assistant\\ntopic:\" #<|im_end|></s>\"\n",
    "    return prompt"
   ]
  },
  {
   "cell_type": "code",
   "execution_count": 6,
   "id": "6e471584",
   "metadata": {},
   "outputs": [
    {
     "data": {
      "text/html": [
       "<div>\n",
       "<style scoped>\n",
       "    .dataframe tbody tr th:only-of-type {\n",
       "        vertical-align: middle;\n",
       "    }\n",
       "\n",
       "    .dataframe tbody tr th {\n",
       "        vertical-align: top;\n",
       "    }\n",
       "\n",
       "    .dataframe thead th {\n",
       "        text-align: right;\n",
       "    }\n",
       "</style>\n",
       "<table border=\"1\" class=\"dataframe\">\n",
       "  <thead>\n",
       "    <tr style=\"text-align: right;\">\n",
       "      <th></th>\n",
       "      <th>fname</th>\n",
       "      <th>dialogue</th>\n",
       "      <th>topic</th>\n",
       "      <th>prompt</th>\n",
       "    </tr>\n",
       "  </thead>\n",
       "  <tbody>\n",
       "    <tr>\n",
       "      <th>0</th>\n",
       "      <td>test_0</td>\n",
       "      <td>#Person1#: 더슨 씨, 받아쓰기 좀 해주세요. \\n#Person2#: 네, ...</td>\n",
       "      <td>내부 메모</td>\n",
       "      <td>&lt;s&gt; &lt;|im_start|&gt;system\\n주제를 참고해 다음 대화를 요약해주세요:...</td>\n",
       "    </tr>\n",
       "    <tr>\n",
       "      <th>1</th>\n",
       "      <td>test_1</td>\n",
       "      <td>#Person1#: 드디어 왔네! 왜 그렇게 오래 걸렸어?\\n#Person2#: 또...</td>\n",
       "      <td>교통 체증</td>\n",
       "      <td>&lt;s&gt; &lt;|im_start|&gt;system\\n주제를 참고해 다음 대화를 요약해주세요:...</td>\n",
       "    </tr>\n",
       "    <tr>\n",
       "      <th>2</th>\n",
       "      <td>test_2</td>\n",
       "      <td>#Person1#: 케이트, 무슨 일이 일어났는지 너는 믿지 못할거야. \\n#Per...</td>\n",
       "      <td>이혼</td>\n",
       "      <td>&lt;s&gt; &lt;|im_start|&gt;system\\n주제를 참고해 다음 대화를 요약해주세요:...</td>\n",
       "    </tr>\n",
       "    <tr>\n",
       "      <th>3</th>\n",
       "      <td>test_3</td>\n",
       "      <td>#Person1#: 생일 축하해, 이건 너를 위한 거야, 브라이언.\\n#Person...</td>\n",
       "      <td>생일 파티</td>\n",
       "      <td>&lt;s&gt; &lt;|im_start|&gt;system\\n주제를 참고해 다음 대화를 요약해주세요:...</td>\n",
       "    </tr>\n",
       "    <tr>\n",
       "      <th>4</th>\n",
       "      <td>test_4</td>\n",
       "      <td>#Person1#: 이 올림픽 공원이 정말 크네요!\\n#Person2#: 네. 지금...</td>\n",
       "      <td>올림픽 공원</td>\n",
       "      <td>&lt;s&gt; &lt;|im_start|&gt;system\\n주제를 참고해 다음 대화를 요약해주세요:...</td>\n",
       "    </tr>\n",
       "    <tr>\n",
       "      <th>...</th>\n",
       "      <td>...</td>\n",
       "      <td>...</td>\n",
       "      <td>...</td>\n",
       "      <td>...</td>\n",
       "    </tr>\n",
       "    <tr>\n",
       "      <th>494</th>\n",
       "      <td>test_495</td>\n",
       "      <td>#Person1#: 헤이, 찰리, 학교 끝나고 우리 집에 와서 나랑 비디오 게임 할...</td>\n",
       "      <td>비디오 게임</td>\n",
       "      <td>&lt;s&gt; &lt;|im_start|&gt;system\\n주제를 참고해 다음 대화를 요약해주세요:...</td>\n",
       "    </tr>\n",
       "    <tr>\n",
       "      <th>495</th>\n",
       "      <td>test_496</td>\n",
       "      <td>#Person1#: 어떻게 컨트리 음악에 관심을 가지게 되었나요?\\n#Person2...</td>\n",
       "      <td>컨트리 음악</td>\n",
       "      <td>&lt;s&gt; &lt;|im_start|&gt;system\\n주제를 참고해 다음 대화를 요약해주세요:...</td>\n",
       "    </tr>\n",
       "    <tr>\n",
       "      <th>496</th>\n",
       "      <td>test_497</td>\n",
       "      <td>#Person1#: 실례합니다, 앨리스. 이곳을 사용해본 적이 없는데, 기계를 어떻...</td>\n",
       "      <td>세탁기</td>\n",
       "      <td>&lt;s&gt; &lt;|im_start|&gt;system\\n주제를 참고해 다음 대화를 요약해주세요:...</td>\n",
       "    </tr>\n",
       "    <tr>\n",
       "      <th>497</th>\n",
       "      <td>test_498</td>\n",
       "      <td>#Person1#: 매튜? 안녕!\\n#Person2#: 스티브! 오랜만이네! 얼마나...</td>\n",
       "      <td>집 찾기</td>\n",
       "      <td>&lt;s&gt; &lt;|im_start|&gt;system\\n주제를 참고해 다음 대화를 요약해주세요:...</td>\n",
       "    </tr>\n",
       "    <tr>\n",
       "      <th>498</th>\n",
       "      <td>test_499</td>\n",
       "      <td>#Person1#: 헤이, 벳시, 좋은 소식 들었어?\\n#Person2#: 아니, ...</td>\n",
       "      <td>승진</td>\n",
       "      <td>&lt;s&gt; &lt;|im_start|&gt;system\\n주제를 참고해 다음 대화를 요약해주세요:...</td>\n",
       "    </tr>\n",
       "  </tbody>\n",
       "</table>\n",
       "<p>499 rows × 4 columns</p>\n",
       "</div>"
      ],
      "text/plain": [
       "        fname                                           dialogue   topic  \\\n",
       "0      test_0  #Person1#: 더슨 씨, 받아쓰기 좀 해주세요. \\n#Person2#: 네, ...   내부 메모   \n",
       "1      test_1  #Person1#: 드디어 왔네! 왜 그렇게 오래 걸렸어?\\n#Person2#: 또...   교통 체증   \n",
       "2      test_2  #Person1#: 케이트, 무슨 일이 일어났는지 너는 믿지 못할거야. \\n#Per...      이혼   \n",
       "3      test_3  #Person1#: 생일 축하해, 이건 너를 위한 거야, 브라이언.\\n#Person...   생일 파티   \n",
       "4      test_4  #Person1#: 이 올림픽 공원이 정말 크네요!\\n#Person2#: 네. 지금...  올림픽 공원   \n",
       "..        ...                                                ...     ...   \n",
       "494  test_495  #Person1#: 헤이, 찰리, 학교 끝나고 우리 집에 와서 나랑 비디오 게임 할...  비디오 게임   \n",
       "495  test_496  #Person1#: 어떻게 컨트리 음악에 관심을 가지게 되었나요?\\n#Person2...  컨트리 음악   \n",
       "496  test_497  #Person1#: 실례합니다, 앨리스. 이곳을 사용해본 적이 없는데, 기계를 어떻...     세탁기   \n",
       "497  test_498  #Person1#: 매튜? 안녕!\\n#Person2#: 스티브! 오랜만이네! 얼마나...    집 찾기   \n",
       "498  test_499  #Person1#: 헤이, 벳시, 좋은 소식 들었어?\\n#Person2#: 아니, ...      승진   \n",
       "\n",
       "                                                prompt  \n",
       "0    <s> <|im_start|>system\\n주제를 참고해 다음 대화를 요약해주세요:...  \n",
       "1    <s> <|im_start|>system\\n주제를 참고해 다음 대화를 요약해주세요:...  \n",
       "2    <s> <|im_start|>system\\n주제를 참고해 다음 대화를 요약해주세요:...  \n",
       "3    <s> <|im_start|>system\\n주제를 참고해 다음 대화를 요약해주세요:...  \n",
       "4    <s> <|im_start|>system\\n주제를 참고해 다음 대화를 요약해주세요:...  \n",
       "..                                                 ...  \n",
       "494  <s> <|im_start|>system\\n주제를 참고해 다음 대화를 요약해주세요:...  \n",
       "495  <s> <|im_start|>system\\n주제를 참고해 다음 대화를 요약해주세요:...  \n",
       "496  <s> <|im_start|>system\\n주제를 참고해 다음 대화를 요약해주세요:...  \n",
       "497  <s> <|im_start|>system\\n주제를 참고해 다음 대화를 요약해주세요:...  \n",
       "498  <s> <|im_start|>system\\n주제를 참고해 다음 대화를 요약해주세요:...  \n",
       "\n",
       "[499 rows x 4 columns]"
      ]
     },
     "execution_count": 6,
     "metadata": {},
     "output_type": "execute_result"
    }
   ],
   "source": [
    "test_df['prompt'] = test_df.apply(generate_test_prompt, axis=1)\n",
    "test_df"
   ]
  },
  {
   "cell_type": "code",
   "execution_count": 7,
   "id": "a4a3c314",
   "metadata": {},
   "outputs": [
    {
     "name": "stderr",
     "output_type": "stream",
     "text": [
      "  0%|          | 1/499 [00:09<1:18:55,  9.51s/ examples]"
     ]
    },
    {
     "name": "stdout",
     "output_type": "stream",
     "text": [
      "#Person1#은 더슨 씨에게 모든 직원에게 내부 메모를 전달하라고 요청합니다. 메모는 즉시 메시지를 사용하는 것을 금지하고, 두 번째 위반 시 해고될 수 있다고 경고합니다.\n"
     ]
    },
    {
     "name": "stderr",
     "output_type": "stream",
     "text": [
      "  2%|▏         | 11/499 [01:45<1:17:40,  9.55s/ examples]"
     ]
    },
    {
     "name": "stdout",
     "output_type": "stream",
     "text": [
      "#Person1#은 #Person2#에게 허베이에서 심각한 모래폭풍이 일어나고 있다고 말한다. #Person2#는 모래폭풍이 이 지역에 사는 사람들에게 어떤 영향을 미치는지 묻는다.\n"
     ]
    },
    {
     "name": "stderr",
     "output_type": "stream",
     "text": [
      "  4%|▍         | 21/499 [03:20<1:15:51,  9.52s/ examples]"
     ]
    },
    {
     "name": "stdout",
     "output_type": "stream",
     "text": [
      "프랭크는 주디에게 우체국에서 새로운 일자리를 얻었다고 말한다. 그는 힘든 일과 짧은 점심시간에도 불구하고 이 일자리를 선택한 이유는 우체국이 직원들에게 훌륭한 건강보험 혜택을 제공하기 때문이다.\n"
     ]
    },
    {
     "name": "stderr",
     "output_type": "stream",
     "text": [
      "  6%|▌         | 31/499 [04:55<1:13:44,  9.45s/ examples]"
     ]
    },
    {
     "name": "stdout",
     "output_type": "stream",
     "text": [
      "폴리 씨는 끔찍한 일을 잊기 위해 탄산 음료 한 병을 사려고 합니다. #Person1#은 상사가 가게에 있기 때문에 폴리 씨에게 직접 가게에 가라고 요청합니다.\n"
     ]
    },
    {
     "name": "stderr",
     "output_type": "stream",
     "text": [
      "  8%|▊         | 41/499 [06:30<1:12:30,  9.50s/ examples]"
     ]
    },
    {
     "name": "stdout",
     "output_type": "stream",
     "text": [
      "#Person1#은 펜던트가 부러져서 #Person2#에게 교체해달라고 요청했습니다. #Person2#는 동의했습니다.\n"
     ]
    },
    {
     "name": "stderr",
     "output_type": "stream",
     "text": [
      " 10%|█         | 51/499 [08:06<1:10:23,  9.43s/ examples]"
     ]
    },
    {
     "name": "stdout",
     "output_type": "stream",
     "text": [
      "#Person1#은 중요한 일 때문에 프렌드십 호텔로 서둘러야 합니다. #Person2#는 #Person1#을 목적지까지 빠르게 데려다 줍니다.\n"
     ]
    },
    {
     "name": "stderr",
     "output_type": "stream",
     "text": [
      " 12%|█▏        | 61/499 [09:41<1:09:24,  9.51s/ examples]"
     ]
    },
    {
     "name": "stdout",
     "output_type": "stream",
     "text": [
      "잭은 #Person1#에게 정치학 수업이 좋았지만, 비즈니스 커뮤니케이션 수업이 가장 좋다고 말했다.\n"
     ]
    },
    {
     "name": "stderr",
     "output_type": "stream",
     "text": [
      " 14%|█▍        | 71/499 [11:16<1:07:34,  9.47s/ examples]"
     ]
    },
    {
     "name": "stdout",
     "output_type": "stream",
     "text": [
      "#Person2#는 #Person1#에게 공장이 75,000 제곱미터의 면적을 가지고 있으며, 500명의 직원이 있으며, 원자재부터 완제품까지 모든 것을 다루고 있다고 말합니다.\n"
     ]
    },
    {
     "name": "stderr",
     "output_type": "stream",
     "text": [
      " 16%|█▌        | 81/499 [12:52<1:06:50,  9.59s/ examples]"
     ]
    },
    {
     "name": "stdout",
     "output_type": "stream",
     "text": [
      "#Person1#은 #Person2#에게 차량 사고에 대해 알리고, #Person2#는 구급차와 경찰을 불러줄 것입니다.\n"
     ]
    },
    {
     "name": "stderr",
     "output_type": "stream",
     "text": [
      " 18%|█▊        | 91/499 [14:26<1:04:00,  9.41s/ examples]"
     ]
    },
    {
     "name": "stdout",
     "output_type": "stream",
     "text": [
      "#Person1#은 소풍 갈 때 과일을 가져가려고 한다. #Person2#는 #Person1#에게 바나나와 포도를 가져가라고 제안한다.\n"
     ]
    },
    {
     "name": "stderr",
     "output_type": "stream",
     "text": [
      " 20%|██        | 101/499 [16:01<1:03:27,  9.57s/ examples]"
     ]
    },
    {
     "name": "stdout",
     "output_type": "stream",
     "text": [
      "#Person1#과 #Person2#는 트럼프에 대해 다른 의견을 가지고 있다. #Person1#은 그가 다시 대통령이 되는 것을 상상조차 할 수 없지만, #Person2#는 그가 다시 선출되면 행복할 것이다.\n"
     ]
    },
    {
     "name": "stderr",
     "output_type": "stream",
     "text": [
      " 22%|██▏       | 111/499 [17:36<1:01:34,  9.52s/ examples]"
     ]
    },
    {
     "name": "stdout",
     "output_type": "stream",
     "text": [
      "#Person1#은 새해 결심으로 다이어트를 시작하기로 결정했지만, 캐롤은 #Person1#이 이 약속을 지킬 수 있을지 의심한다.\n"
     ]
    },
    {
     "name": "stderr",
     "output_type": "stream",
     "text": [
      " 24%|██▍       | 121/499 [19:12<1:00:07,  9.54s/ examples]"
     ]
    },
    {
     "name": "stdout",
     "output_type": "stream",
     "text": [
      "#Person1#은 #Person2#에게 강아지들에게 밥을 주고 목욕을 시켜달라고 요청했습니다. #Person1#은 #Person2#에게 동물병원에 가는 것을 상기시켰습니다.\n"
     ]
    },
    {
     "name": "stderr",
     "output_type": "stream",
     "text": [
      " 26%|██▋       | 131/499 [20:47<58:31,  9.54s/ examples]  "
     ]
    },
    {
     "name": "stdout",
     "output_type": "stream",
     "text": [
      "#Person1#은 과학 박물관으로 가는 길을 묻기 위해 #Person2#에게 도움을 청하고, #Person2#는 #Person1#에게 어떻게 해야 하는지 알려준다.\n"
     ]
    },
    {
     "name": "stderr",
     "output_type": "stream",
     "text": [
      " 28%|██▊       | 141/499 [22:23<57:05,  9.57s/ examples]"
     ]
    },
    {
     "name": "stdout",
     "output_type": "stream",
     "text": [
      "#Person1#은 #Person2#에게 화를 냈지만, #Person2#는 큰 산불을 끄러 가야 했다. #Person1#은 #Person2#에게 임신했다고 말한다. #Person2#는 기뻐한다. #Person3#는 #Person1#의 검사 결과를 알려준다. #Person2#는 아기가 자신의 아기가 아니라고 생각한다.\n"
     ]
    },
    {
     "name": "stderr",
     "output_type": "stream",
     "text": [
      " 30%|███       | 151/499 [23:58<55:23,  9.55s/ examples]"
     ]
    },
    {
     "name": "stdout",
     "output_type": "stream",
     "text": [
      "#Person2#는 컴퓨터에 바이러스가 있다고 생각하지만, #Person1#는 #Person2#의 이메일이 너무 크다고 말한다. #Person1#는 #Person2#에게 압축해서 보내라고 조언한다.\n"
     ]
    },
    {
     "name": "stderr",
     "output_type": "stream",
     "text": [
      " 32%|███▏      | 161/499 [25:32<52:36,  9.34s/ examples]"
     ]
    },
    {
     "name": "stdout",
     "output_type": "stream",
     "text": [
      "#Person1#과 #Person2#는 배와 보트가 예전처럼 교통수단으로 중요하지 않다는 것에 동의합니다. #Person1#은 사람들이 배로 여행하고 싶어하지 않는 이유는 사람들의 생활 속도가 점점 빨라지고 있기 때문이라고 생각합니다.\n"
     ]
    },
    {
     "name": "stderr",
     "output_type": "stream",
     "text": [
      " 34%|███▍      | 171/499 [27:07<52:06,  9.53s/ examples]"
     ]
    },
    {
     "name": "stdout",
     "output_type": "stream",
     "text": [
      "#Person1#은 센트럴 백화점으로 가는 길을 묻고, #Person2#는 #Person1#에게 길을 알려줍니다.\n"
     ]
    },
    {
     "name": "stderr",
     "output_type": "stream",
     "text": [
      " 36%|███▋      | 181/499 [28:42<50:25,  9.51s/ examples]"
     ]
    },
    {
     "name": "stdout",
     "output_type": "stream",
     "text": [
      "앤은 삼-오에게 전화를 걸어 다시 만나고 싶지 않다고 말한다. 삼-오는 놀라며 그녀에게 두 번째 기회를 달라고 요청하지만 앤은 거절한다.\n"
     ]
    },
    {
     "name": "stderr",
     "output_type": "stream",
     "text": [
      " 38%|███▊      | 191/499 [30:17<48:47,  9.50s/ examples]"
     ]
    },
    {
     "name": "stdout",
     "output_type": "stream",
     "text": [
      "월터와 스털링은 우드 교수님이 뛰어난 과학자라고 생각하지만, 정신이 좀 딴 데 팔린 것 같다고 생각한다.\n"
     ]
    },
    {
     "name": "stderr",
     "output_type": "stream",
     "text": [
      " 40%|████      | 201/499 [31:53<47:29,  9.56s/ examples]"
     ]
    },
    {
     "name": "stdout",
     "output_type": "stream",
     "text": [
      "#Person1#은 배가 고프다. #Person2#는 몇 가지 요리를 추천하지만 #Person1#은 매운 음식을 좋아하지 않는다. #Person2#는 베이징 요리를 추천하고 #Person1#에게 가장 좋은 식당인 전취덕을 알려준다.\n"
     ]
    },
    {
     "name": "stderr",
     "output_type": "stream",
     "text": [
      " 42%|████▏     | 211/499 [33:28<45:41,  9.52s/ examples]"
     ]
    },
    {
     "name": "stdout",
     "output_type": "stream",
     "text": [
      "#Person1#은 빌에게 젖은 페인트에 손대지 말라고 경고한다. 빌은 동의하지만, 존 샘슨처럼 무심코 행동하지 않을 것이라고 말한다. #Person1#은 작업자들이 공지를 붙이지 않는 것에 대해 불평한다.\n"
     ]
    },
    {
     "name": "stderr",
     "output_type": "stream",
     "text": [
      " 44%|████▍     | 221/499 [35:04<44:09,  9.53s/ examples]"
     ]
    },
    {
     "name": "stdout",
     "output_type": "stream",
     "text": [
      "#Person2#는 대출 신청에 대한 정보를 얻고 싶어합니다. #Person1#는 #Person2#에게 대출의 일반적인 조건을 알려줍니다. #Person2#는 신용 점수가 매우 낮아서 대출을 신청하지 않을 것입니다.\n"
     ]
    },
    {
     "name": "stderr",
     "output_type": "stream",
     "text": [
      " 46%|████▋     | 231/499 [36:40<42:31,  9.52s/ examples]"
     ]
    },
    {
     "name": "stdout",
     "output_type": "stream",
     "text": [
      "#Person2#는 #Person1#에게 호주에 가고 싶다고 말합니다.\n"
     ]
    },
    {
     "name": "stderr",
     "output_type": "stream",
     "text": [
      " 48%|████▊     | 241/499 [38:16<41:31,  9.66s/ examples]"
     ]
    },
    {
     "name": "stdout",
     "output_type": "stream",
     "text": [
      "에밀리는 수잔에게 급여에 대한 몇 가지 질문을 한다. 수잔은 에밀리에게 FICA와 SUI Y 세금이 무엇인지, 그리고 메디케어와 그녀의 건강 보험 계획에 대한 공제가 왜 있는지 설명한다. 에밀리는 수잔에게 도움을 주어서 감사하다고 말한다.\n"
     ]
    },
    {
     "name": "stderr",
     "output_type": "stream",
     "text": [
      " 50%|█████     | 251/499 [39:51<39:17,  9.50s/ examples]"
     ]
    },
    {
     "name": "stdout",
     "output_type": "stream",
     "text": [
      "#Person1#은 #Person2#의 도움으로 티켓을 찾습니다.\n"
     ]
    },
    {
     "name": "stderr",
     "output_type": "stream",
     "text": [
      " 52%|█████▏    | 261/499 [41:26<37:38,  9.49s/ examples]"
     ]
    },
    {
     "name": "stdout",
     "output_type": "stream",
     "text": [
      "#Person1#은 머피 뮤직과 U-튠즈가 합병한다는 것을 #Person2#에게 알려줍니다. #Person2#는 처음에는 믿지 않았지만, #Person1#은 금융 페이지에서 읽었다고 말합니다.\n"
     ]
    },
    {
     "name": "stderr",
     "output_type": "stream",
     "text": [
      " 54%|█████▍    | 271/499 [43:02<36:20,  9.56s/ examples]"
     ]
    },
    {
     "name": "stdout",
     "output_type": "stream",
     "text": [
      "브라운 씨는 #Person2#에게 월급을 제안하고, #Person2#는 동의한다.\n"
     ]
    },
    {
     "name": "stderr",
     "output_type": "stream",
     "text": [
      " 56%|█████▋    | 281/499 [44:37<34:42,  9.55s/ examples]"
     ]
    },
    {
     "name": "stdout",
     "output_type": "stream",
     "text": [
      "#Person1#과 #Person2#는 음식을 주문하기 위해 줄을 서고 있습니다. #Person1#은 크림 케이크를 원하고, #Person2#는 그것을 좋아하지 않습니다.\n"
     ]
    },
    {
     "name": "stderr",
     "output_type": "stream",
     "text": [
      " 58%|█████▊    | 291/499 [46:13<33:08,  9.56s/ examples]"
     ]
    },
    {
     "name": "stdout",
     "output_type": "stream",
     "text": [
      "#Person1#은 #Person2#의 도움으로 알루미늄 팬과 나무 핸들을 가진 알루미늄 팬을 구입했습니다.\n"
     ]
    },
    {
     "name": "stderr",
     "output_type": "stream",
     "text": [
      " 60%|██████    | 301/499 [47:48<31:16,  9.48s/ examples]"
     ]
    },
    {
     "name": "stdout",
     "output_type": "stream",
     "text": [
      "#Person1#은 켄이 돌아오면 가능한 한 빨리 비상 회의를 소집하도록 #Person2#에게 요청했습니다.\n"
     ]
    },
    {
     "name": "stderr",
     "output_type": "stream",
     "text": [
      " 62%|██████▏   | 311/499 [49:23<29:29,  9.41s/ examples]"
     ]
    },
    {
     "name": "stdout",
     "output_type": "stream",
     "text": [
      "다니엘은 과학이 가장 좋다고 말하지만, #Person2#는 그가 체육을 좋아할 것이라고 생각했습니다. 다니엘은 #Person2#에게 과학에 관심이 있는 이유를 설명합니다.\n"
     ]
    },
    {
     "name": "stderr",
     "output_type": "stream",
     "text": [
      " 64%|██████▍   | 321/499 [50:58<28:14,  9.52s/ examples]"
     ]
    },
    {
     "name": "stdout",
     "output_type": "stream",
     "text": [
      "#Person1#은 목이 말라 죽을 지경입니다. #Person2#는 #Person1#에게 물을 마시라고 제안합니다.\n"
     ]
    },
    {
     "name": "stderr",
     "output_type": "stream",
     "text": [
      " 66%|██████▋   | 331/499 [52:33<26:31,  9.47s/ examples]"
     ]
    },
    {
     "name": "stdout",
     "output_type": "stream",
     "text": [
      "#Person2#는 #Person1#의 도움으로 중앙에 있는 테이블을 선택하고, #Person2#의 친구를 기다리기 위해 20분 후에 음식을 준비하도록 요청합니다.\n"
     ]
    },
    {
     "name": "stderr",
     "output_type": "stream",
     "text": [
      " 68%|██████▊   | 341/499 [54:08<24:55,  9.47s/ examples]"
     ]
    },
    {
     "name": "stdout",
     "output_type": "stream",
     "text": [
      "#Person1#은 잭에게 #Person1#의 새로운 강아지를 보여주고, 잭은 그것이 귀엽다고 생각한다.\n"
     ]
    },
    {
     "name": "stderr",
     "output_type": "stream",
     "text": [
      " 70%|███████   | 351/499 [55:43<23:24,  9.49s/ examples]"
     ]
    },
    {
     "name": "stdout",
     "output_type": "stream",
     "text": [
      "#Person1#은 #Person2#에게 CA216 비행기가 지연된 이유를 묻습니다. #Person2#는 폭우 때문이라고 말합니다. #Person1#은 더 자세한 정보를 요청하지만, #Person2#는 현재로서는 알 수 없다고 말합니다.\n"
     ]
    },
    {
     "name": "stderr",
     "output_type": "stream",
     "text": [
      " 72%|███████▏  | 361/499 [57:18<21:51,  9.51s/ examples]"
     ]
    },
    {
     "name": "stdout",
     "output_type": "stream",
     "text": [
      "#Person1#과 #Person2#는 볼티모어에서 야구 경기를 보고 있습니다. #Person2#는 #Person1#에게 현재 점수와 야구 경기장을 칭찬합니다.\n"
     ]
    },
    {
     "name": "stderr",
     "output_type": "stream",
     "text": [
      " 74%|███████▍  | 371/499 [58:53<20:08,  9.44s/ examples]"
     ]
    },
    {
     "name": "stdout",
     "output_type": "stream",
     "text": [
      "#Person2#는 #Person1#에게 영어 노래가 있지만, 그것들을 찾는 데 몇 분 더 걸릴 수 있다고 말합니다.\n"
     ]
    },
    {
     "name": "stderr",
     "output_type": "stream",
     "text": [
      " 76%|███████▋  | 381/499 [1:00:29<18:56,  9.63s/ examples]"
     ]
    },
    {
     "name": "stdout",
     "output_type": "stream",
     "text": [
      "#Person2#는 #Person1#에게 9년 동안 우표 수집에 관심을 가지고 있으며, 첫 우표에는 퀸 빅토리아의 사진이 그려져 있다고 말합니다.\n"
     ]
    },
    {
     "name": "stderr",
     "output_type": "stream",
     "text": [
      " 78%|███████▊  | 391/499 [1:02:04<17:05,  9.49s/ examples]"
     ]
    },
    {
     "name": "stdout",
     "output_type": "stream",
     "text": [
      "티나는 #Person1#에게 8년 동안 피아노를 배웠으며, 그녀의 선생님은 영국 출신의 훌륭한 선생님이라고 말한다. #Person1#는 그 선생님을 만나고 싶어한다.\n"
     ]
    },
    {
     "name": "stderr",
     "output_type": "stream",
     "text": [
      " 80%|████████  | 401/499 [1:03:39<15:23,  9.42s/ examples]"
     ]
    },
    {
     "name": "stdout",
     "output_type": "stream",
     "text": [
      "#Person2#는 집주인과 수리 비용에 대해 불평하고 있습니다. #Person2#는 집주인이 수리를 하지 않는 것이 아니라 너무 오래 걸리는 것이라고 말합니다. #Person2#는 #Person1#에게 집주인이 수리를 하지 않는다고 말합니다.\n"
     ]
    },
    {
     "name": "stderr",
     "output_type": "stream",
     "text": [
      " 82%|████████▏ | 411/499 [1:05:14<13:59,  9.54s/ examples]"
     ]
    },
    {
     "name": "stdout",
     "output_type": "stream",
     "text": [
      "메리는 앤과 큰 싸움을 했고, #Person1#은 그녀에게 앤이 남자친구를 따라가야 하는 상황을 이해하라고 제안한다. 메리는 앤에게 사과할 것이다.\n"
     ]
    },
    {
     "name": "stderr",
     "output_type": "stream",
     "text": [
      " 84%|████████▍ | 421/499 [1:06:50<12:27,  9.58s/ examples]"
     ]
    },
    {
     "name": "stdout",
     "output_type": "stream",
     "text": [
      "#Person1#은 오래된 포드 핀토를 팔고 새 차를 사고 싶어합니다. #Person2#는 포드 포커스를 추천하고 #Person1#에게 그 장점을 소개합니다. #Person1#은 그 차를 좋아하고 시승해봅니다.\n"
     ]
    },
    {
     "name": "stderr",
     "output_type": "stream",
     "text": [
      " 86%|████████▋ | 431/499 [1:08:25<10:46,  9.51s/ examples]"
     ]
    },
    {
     "name": "stdout",
     "output_type": "stream",
     "text": [
      "#Person1#은 탕 씨를 인터뷰하고 탕 씨는 #Person1#에게 자신의 자격에 대해 설명합니다.\n"
     ]
    },
    {
     "name": "stderr",
     "output_type": "stream",
     "text": [
      " 88%|████████▊ | 441/499 [1:10:01<09:16,  9.59s/ examples]"
     ]
    },
    {
     "name": "stdout",
     "output_type": "stream",
     "text": [
      "#Person1#은 결혼할 준비가 되지 않았다고 생각하고, 결혼을 망치고 싶어한다. #Person2#는 #Person1#에게 에이미를 놓치지 말라고 설득하고, #Person1#은 마음을 바꾸고 결혼하기로 결정한다.\n"
     ]
    },
    {
     "name": "stderr",
     "output_type": "stream",
     "text": [
      " 90%|█████████ | 451/499 [1:11:36<07:37,  9.53s/ examples]"
     ]
    },
    {
     "name": "stdout",
     "output_type": "stream",
     "text": [
      "#Person2#는 #Person1#에게 피크 트램으로 가는 방법을 알려줍니다. #Person1#는 #Person2#에게 연필을 달라고 요청하여 그 방법을 적어둘 수 있습니다.\n"
     ]
    },
    {
     "name": "stderr",
     "output_type": "stream",
     "text": [
      " 92%|█████████▏| 461/499 [1:13:12<06:04,  9.60s/ examples]"
     ]
    },
    {
     "name": "stdout",
     "output_type": "stream",
     "text": [
      "#Person1#은 목욕을 하려고 하는데 스위치를 어떻게 사용하는지 모르기 때문에 #Person2#에게 도움을 청하고 있습니다.\n"
     ]
    },
    {
     "name": "stderr",
     "output_type": "stream",
     "text": [
      " 94%|█████████▍| 471/499 [1:14:47<04:27,  9.56s/ examples]"
     ]
    },
    {
     "name": "stdout",
     "output_type": "stream",
     "text": [
      "#Person2#는 새로운 계좌를 개설하고 싶어합니다. #Person1#는 #Person2#에게 신청서를 작성하고 여권을 가져오라고 요청합니다. #Person1#는 #Person2#에게 당좌 계좌와 저축 계좌를 모두 개설할 수 있으며, 초과 인출을 할 수 있는 최대 금액은 $1000이며, 초과 인출에 대한 벌금은 1%라고 말합니다. #Person2#는 서류가 모두 괜찮다고 생각합니다.\n"
     ]
    },
    {
     "name": "stderr",
     "output_type": "stream",
     "text": [
      " 96%|█████████▋| 481/499 [1:16:23<02:52,  9.58s/ examples]"
     ]
    },
    {
     "name": "stdout",
     "output_type": "stream",
     "text": [
      "#Person1#와 #Person2#는 방을 정리하고 있다. 그들은 동전을 던져서 아래쪽 침대를 #Person2#에게, 창가 옆의 책상을 #Person1#에게, 그리고 스테레오를 #Person1#에게 준다. #Person1#는 먼저 먹을 것을 가지러 가고, #Person2#는 먼저 짐을 풀어놓을 것이다.\n"
     ]
    },
    {
     "name": "stderr",
     "output_type": "stream",
     "text": [
      " 98%|█████████▊| 491/499 [1:17:59<01:16,  9.59s/ examples]"
     ]
    },
    {
     "name": "stdout",
     "output_type": "stream",
     "text": [
      "#Person1#은 제임스가 기차를 타기 위해 짐을 싸는 것을 돕고 있습니다. 제임스는 데이비드에게 빌려준 재킷을 기다리고 있고, #Person1#은 제임스에게 쿠키를 가져가라고 요청합니다.\n"
     ]
    },
    {
     "name": "stderr",
     "output_type": "stream",
     "text": [
      "100%|██████████| 499/499 [1:19:15<00:00,  9.53s/ examples]\n"
     ]
    }
   ],
   "source": [
    "from tqdm import tqdm\n",
    "from transformers import TextStreamer\n",
    "import re\n",
    "\n",
    "def generate_summary(prompt):\n",
    "    inputs = tokenizer(prompt, return_tensors=\"pt\").to(model.device)\n",
    "\n",
    "    output = model.generate(**inputs, max_new_tokens=100, num_return_sequences=1, pad_token_id=tokenizer.eos_token_id)\n",
    "\n",
    "    output_text = tokenizer.decode(output[0], skip_special_tokens=True)\n",
    "    \n",
    "    #return output_text\n",
    "\n",
    "    # 요약문 추출\n",
    "    summaries = []\n",
    "    for line in output_text.split(\"\\n\"):\n",
    "        if line.startswith(\"요약:\"):\n",
    "            summary = line[4:].strip()\n",
    "            summaries.append(summary)\n",
    "\n",
    "    # 첫 번째 요약문 반환\n",
    "    if summaries:\n",
    "        return summaries[0]\n",
    "    else:\n",
    "        return \"\"\n",
    "\n",
    "test_df['summary'] = ''  # 'summary' 열 초기화\n",
    "\n",
    "for index, row in tqdm(test_df.iterrows(), total=len(test_df), unit=' examples', leave=True):\n",
    "    prompt = row['prompt']\n",
    "    summary = generate_summary(prompt)\n",
    "    if index%10 == 0 : \n",
    "        print(summary)\n",
    "    test_df.at[index, 'summary'] = summary\n",
    "    "
   ]
  },
  {
   "cell_type": "code",
   "execution_count": 8,
   "id": "acaed52e",
   "metadata": {},
   "outputs": [],
   "source": [
    "sample_sub = pd.read_csv('/data/ephemeral/home/data/sample_submission.csv', index_col=0)\n",
    "sample_sub['summary'] = test_df['summary']\n",
    "sample_sub.to_csv('./output_solar_last.csv', index=False)"
   ]
  },
  {
   "cell_type": "code",
   "execution_count": 22,
   "id": "03f79afc",
   "metadata": {},
   "outputs": [
    {
     "name": "stdout",
     "output_type": "stream",
     "text": [
      "Mon May 20 07:57:36 2024       \n",
      "+---------------------------------------------------------------------------------------+\n",
      "| NVIDIA-SMI 535.86.10              Driver Version: 535.86.10    CUDA Version: 12.2     |\n",
      "|-----------------------------------------+----------------------+----------------------+\n",
      "| GPU  Name                 Persistence-M | Bus-Id        Disp.A | Volatile Uncorr. ECC |\n",
      "| Fan  Temp   Perf          Pwr:Usage/Cap |         Memory-Usage | GPU-Util  Compute M. |\n",
      "|                                         |                      |               MIG M. |\n",
      "|=========================================+======================+======================|\n",
      "|   0  NVIDIA GeForce RTX 3090        On  | 00000000:4B:00.0 Off |                  N/A |\n",
      "| 75%   65C    P2             343W / 350W |  23972MiB / 24576MiB |     87%      Default |\n",
      "|                                         |                      |                  N/A |\n",
      "+-----------------------------------------+----------------------+----------------------+\n",
      "                                                                                         \n",
      "+---------------------------------------------------------------------------------------+\n",
      "| Processes:                                                                            |\n",
      "|  GPU   GI   CI        PID   Type   Process name                            GPU Memory |\n",
      "|        ID   ID                                                             Usage      |\n",
      "|=======================================================================================|\n",
      "+---------------------------------------------------------------------------------------+\n"
     ]
    }
   ],
   "source": [
    "!nvidia-smi"
   ]
  }
 ],
 "metadata": {
  "kernelspec": {
   "display_name": "Python 3 (ipykernel)",
   "language": "python",
   "name": "python3"
  },
  "language_info": {
   "codemirror_mode": {
    "name": "ipython",
    "version": 3
   },
   "file_extension": ".py",
   "mimetype": "text/x-python",
   "name": "python",
   "nbconvert_exporter": "python",
   "pygments_lexer": "ipython3",
   "version": "3.10.13"
  }
 },
 "nbformat": 4,
 "nbformat_minor": 5
}
